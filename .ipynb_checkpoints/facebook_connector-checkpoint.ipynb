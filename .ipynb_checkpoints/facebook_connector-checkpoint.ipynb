{
 "cells": [
  {
   "cell_type": "markdown",
   "metadata": {},
   "source": [
    "# Facebook Connector"
   ]
  },
  {
   "cell_type": "markdown",
   "metadata": {},
   "source": [
    "#### How to implement a facebook connector\n",
    "To implement a facebook connector we must know below things -\n",
    "#### 1. Graph API\n",
    "The Graph API is primary method to access means read and write data on facebook social graph. It has 3 components -\n",
    "##### a) Node: \n",
    "        Nodes are individual objects such as user, page, photo and comment. we use nodes to gather data regarding\n",
    "        an individual object. \n",
    "##### b) Edges: \n",
    "        Edges represents the connection between collection of objects to a single object. It can be used to publish\n",
    "        the single object to Collection of objects or get a collection of objects which are connected to a single \n",
    "        object. Suppose, A photo is posted in a person's facebook profile. Now, the comments associated with that photo\n",
    "        is the collection of objects and the photo itself is an individual object. \n",
    "##### c) Fields: \n",
    "        Fields are used to represent data or Information about the an object. For example, for a Node User,\n",
    "        Date of birth, user age are associated fields. fields are used to specify a data that are required to \n",
    "        be included in the response. \n",
    "Since Graph API is HTTP based, it works with any language that has HTTP based library like curl, urllib etc. All requests are passed through the graphs.facebook.com host URL. (graph-video.facebook.com is an exception)\n",
    "\n",
    "Since nodes are individual objects, each node has its associated unique ID. Every user, page, photo has its unique ID associated with it.\n",
    "\n",
    "We Use access tokens to query data from facebook social graph. The access token grants app the permission to access data without user's credentials and also it allows the server to identify who is using the app and accordindly determine what function that user is permitted to do.  \n"
   ]
  },
  {
   "cell_type": "code",
   "execution_count": 1,
   "metadata": {},
   "outputs": [
    {
     "name": "stdout",
     "output_type": "stream",
     "text": [
      "Collecting facebook-sdk\n",
      "  Using cached facebook_sdk-3.1.0-py2.py3-none-any.whl (7.5 kB)\n",
      "Requirement already satisfied: requests in c:\\users\\skish\\anaconda3\\lib\\site-packages (from facebook-sdk) (2.24.0)\n",
      "Requirement already satisfied: certifi>=2017.4.17 in c:\\users\\skish\\anaconda3\\lib\\site-packages (from requests->facebook-sdk) (2020.6.20)\n",
      "Requirement already satisfied: chardet<4,>=3.0.2 in c:\\users\\skish\\anaconda3\\lib\\site-packages (from requests->facebook-sdk) (3.0.4)\n",
      "Requirement already satisfied: urllib3!=1.25.0,!=1.25.1,<1.26,>=1.21.1 in c:\\users\\skish\\anaconda3\\lib\\site-packages (from requests->facebook-sdk) (1.25.11)\n",
      "Requirement already satisfied: idna<3,>=2.5 in c:\\users\\skish\\anaconda3\\lib\\site-packages (from requests->facebook-sdk) (2.10)\n",
      "Installing collected packages: facebook-sdk\n",
      "Successfully installed facebook-sdk-3.1.0\n"
     ]
    }
   ],
   "source": [
    "!pip install facebook-sdk"
   ]
  },
  {
   "cell_type": "code",
   "execution_count": 1,
   "metadata": {},
   "outputs": [],
   "source": [
    "import facebook\n",
    "import json"
   ]
  },
  {
   "cell_type": "code",
   "execution_count": 12,
   "metadata": {},
   "outputs": [
    {
     "name": "stdout",
     "output_type": "stream",
     "text": [
      "{\n",
      "    \"first_name\": \"Ishan\",\n",
      "    \"last_name\": \"Ali\",\n",
      "    \"email\": \"superishan499@gmail.com\",\n",
      "    \"id\": \"165210979383625\"\n",
      "}\n"
     ]
    }
   ],
   "source": [
    "import json\n",
    "import facebook\n",
    "\n",
    "def main():\n",
    "\ttoken = \"EAAOdApZAlmpwBAHWhDpbmbtU0zVZAVjNIYtUFktZCUPKGltpZC9ZCyf2kUUVwNODKPRWusEeGFtt13ZA64TvMWTQT7jmyUynC5eQAl78ZC0AuxmxgSFpDAyS3ZAaCc2iO7rcXWUZB8OmScCAIOw76fvNfZApCdl3b9QarTYZC2sir7jIgKcgBKksgeew3m1ECi7qGm3yyjPJ2INtIbv5g4OyeOh\"\n",
    "\tgraph = facebook.GraphAPI(token)\n",
    "\tprofile = graph.get_object('me', fields ='first_name, last_name, email')\n",
    "\t\n",
    "\t# return desired fields\n",
    "\tprint(json.dumps(profile, indent = 4))\n",
    "\n",
    "if __name__ == '__main__':\n",
    "\tmain()\n"
   ]
  },
  {
   "cell_type": "code",
   "execution_count": 67,
   "metadata": {},
   "outputs": [
    {
     "name": "stdout",
     "output_type": "stream",
     "text": [
      "{\n",
      "    \"first_name\": \"Ishan\",\n",
      "    \"last_name\": \"Ali\",\n",
      "    \"email\": \"superishan499@gmail.com\",\n",
      "    \"id\": \"165210979383625\"\n",
      "}\n"
     ]
    }
   ],
   "source": [
    "import json\n",
    "import facebook\n",
    "\n",
    "def fetch():\n",
    "\ttoken = \"EAAOdApZAlmpwBAF8ZC6r7FHcNOlsq1GKyKV5SA3sPPvxm8yrZCu72pFi5iCDUBKYAP6jEhH7UOO2WskxX6qIWZBtqfc2xf7xjKRip2NZC9nbaexe0ZCjsqZAZAk0C43Kr8GfTXxapBJarjA5aWqeMQsG3KI4ZAeNZBHKEBbuqH244Thwvbq0WKjGKtFaQ1cduaeZCZCXaZClY1pZBW5Xn1mVqKdy7ZC\"\n",
    "\tgraph = facebook.GraphAPI(token)\n",
    "\tprofile = graph.get_object('me', fields ='first_name, last_name, email, gender')\n",
    "\t\n",
    "\t# return desired fields\n",
    "\tprint(json.dumps(profile, indent = 4))\n",
    "fetch()"
   ]
  },
  {
   "cell_type": "code",
   "execution_count": 80,
   "metadata": {},
   "outputs": [
    {
     "name": "stdout",
     "output_type": "stream",
     "text": [
      "{\n",
      "    \"about\": \"This is for development purpose. \",\n",
      "    \"can_post\": true,\n",
      "    \"category\": \"Software\",\n",
      "    \"id\": \"102527715894095\"\n",
      "}\n"
     ]
    }
   ],
   "source": [
    "import json\n",
    "import facebook\n",
    " \n",
    "def main():\n",
    "    token = \"EAAOdApZAlmpwBAGfV1W4iGBaqpEy8ifEWHSV2OKAB6IkmCFDZA6bU6kwKCQ0YRqDYP3jsx7vhPxC0Ub7zNz0ioOxBUBAF0ZC4sOepvFrfvPnNaPbG8qIgRtwTTBThyCtbHJi2pCHn6ZBYxZA4tCTkzrY6WBOeynZBvmZCF4MZBhfhhcn17n8jQDBQPWXfj5TF3umcjVhGxIv4pnZAIbjrQ91p\"\n",
    "    graph = facebook.GraphAPI(token)\n",
    "    page = graph.get_object(id ='102527715894095', fields ='about, can_post, category')\n",
    "    # return desired fields\n",
    "    print(json.dumps(page, indent = 4))\n",
    "\n",
    "if __name__ == '__main__':\n",
    "    main()"
   ]
  },
  {
   "cell_type": "code",
   "execution_count": 7,
   "metadata": {},
   "outputs": [
    {
     "name": "stdout",
     "output_type": "stream",
     "text": [
      "{\n",
      "    \"message\": \"Beautiful fluffy cat\",\n",
      "    \"attachments\": {\n",
      "        \"data\": [\n",
      "            {\n",
      "                \"description\": \"Beautiful fluffy cat\"\n",
      "            }\n",
      "        ]\n",
      "    },\n",
      "    \"created_time\": \"2022-07-30T09:03:48+0000\",\n",
      "    \"id\": \"102527715894095_102926252520908\"\n",
      "}\n"
     ]
    }
   ],
   "source": [
    "import json\n",
    "import facebook\n",
    "\n",
    "def main():\n",
    "\ttoken = \"EAAOdApZAlmpwBAHWhDpbmbtU0zVZAVjNIYtUFktZCUPKGltpZC9ZCyf2kUUVwNODKPRWusEeGFtt13ZA64TvMWTQT7jmyUynC5eQAl78ZC0AuxmxgSFpDAyS3ZAaCc2iO7rcXWUZB8OmScCAIOw76fvNfZApCdl3b9QarTYZC2sir7jIgKcgBKksgeew3m1ECi7qGm3yyjPJ2INtIbv5g4OyeOh\"\n",
    "\tgraph = facebook.GraphAPI(token)\n",
    "\tpost = graph.get_object(id ='102527715894095_102926252520908', fields ='message, attachments{description},created_time')\n",
    "\t# return desired fields\n",
    "\tprint(json.dumps(post, indent = 4))\n",
    "\n",
    "if __name__ == '__main__':\n",
    "\tmain()\n",
    "\n"
   ]
  },
  {
   "cell_type": "code",
   "execution_count": 10,
   "metadata": {},
   "outputs": [
    {
     "name": "stdout",
     "output_type": "stream",
     "text": [
      "{\n",
      "    \"102527715894095_102926252520908\": {\n",
      "        \"message\": \"Beautiful fluffy cat\",\n",
      "        \"attachments\": {\n",
      "            \"data\": [\n",
      "                {\n",
      "                    \"description\": \"Beautiful fluffy cat\"\n",
      "                }\n",
      "            ]\n",
      "        },\n",
      "        \"created_time\": \"2022-07-30T09:03:48+0000\",\n",
      "        \"id\": \"102527715894095_102926252520908\"\n",
      "    },\n",
      "    \"102527715894095_102532619226938\": {\n",
      "        \"message\": \"Beautiful image\",\n",
      "        \"attachments\": {\n",
      "            \"data\": [\n",
      "                {\n",
      "                    \"description\": \"Beautiful image\"\n",
      "                }\n",
      "            ]\n",
      "        },\n",
      "        \"created_time\": \"2022-07-29T16:58:06+0000\",\n",
      "        \"id\": \"102527715894095_102532619226938\"\n",
      "    }\n",
      "}\n"
     ]
    }
   ],
   "source": [
    "import facebook\n",
    "import json\n",
    "\n",
    "def main():\n",
    "    token = \"EAAOdApZAlmpwBAHWhDpbmbtU0zVZAVjNIYtUFktZCUPKGltpZC9ZCyf2kUUVwNODKPRWusEeGFtt13ZA64TvMWTQT7jmyUynC5eQAl78ZC0AuxmxgSFpDAyS3ZAaCc2iO7rcXWUZB8OmScCAIOw76fvNfZApCdl3b9QarTYZC2sir7jIgKcgBKksgeew3m1ECi7qGm3yyjPJ2INtIbv5g4OyeOh\"\n",
    "    graph = facebook.GraphAPI(token)\n",
    "    posts_ids = [\"102527715894095_102926252520908\",\"102527715894095_102532619226938\"]\n",
    "    post = graph.get_objects(ids = posts_ids, fields ='message, attachments{description},created_time')\n",
    "    print(json.dumps(post,indent = 4))\n",
    "if __name__ == \"__main__\":\n",
    "    main()\n",
    "    "
   ]
  },
  {
   "cell_type": "code",
   "execution_count": null,
   "metadata": {},
   "outputs": [],
   "source": []
  },
  {
   "cell_type": "code",
   "execution_count": null,
   "metadata": {},
   "outputs": [],
   "source": []
  }
 ],
 "metadata": {
  "kernelspec": {
   "display_name": "Python 3",
   "language": "python",
   "name": "python3"
  },
  "language_info": {
   "codemirror_mode": {
    "name": "ipython",
    "version": 3
   },
   "file_extension": ".py",
   "mimetype": "text/x-python",
   "name": "python",
   "nbconvert_exporter": "python",
   "pygments_lexer": "ipython3",
   "version": "3.8.5"
  }
 },
 "nbformat": 4,
 "nbformat_minor": 4
}
